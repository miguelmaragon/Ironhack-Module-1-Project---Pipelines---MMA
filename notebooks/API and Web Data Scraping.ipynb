{
 "cells": [
  {
   "cell_type": "code",
   "execution_count": 1,
   "metadata": {},
   "outputs": [],
   "source": [
    "import urllib.request\n",
    "import requests\n",
    "import time\n",
    "import sys\n",
    "from bs4 import BeautifulSoup\n",
    "from pandas.io.json import json_normalize\n",
    "import pandas as pd\n",
    "import datetime\n",
    "import re\n",
    "now = datetime.datetime.now()\n",
    "import lxml"
   ]
  },
  {
   "cell_type": "code",
   "execution_count": 2,
   "metadata": {},
   "outputs": [],
   "source": [
    "#datos = urllib.request.urlopen('https://www.forbes.com/real-time-billionaires').read().decode()\n",
    "#url='https://www.forbes.com/real-time-billionaires'\n",
    "# Pagina donde se empezó: https://forbes400.herokuapp.com/\n",
    "# Pagina para API https://www.quandl.com/\n",
    "url='https://forbes400.herokuapp.com/api/forbes400/getAllBillionaires'"
   ]
  },
  {
   "cell_type": "code",
   "execution_count": 3,
   "metadata": {},
   "outputs": [],
   "source": [
    "response = requests.get(url)\n",
    "html_soup = BeautifulSoup(response.text, \"html.parser\")"
   ]
  },
  {
   "cell_type": "code",
   "execution_count": 4,
   "metadata": {},
   "outputs": [],
   "source": [
    "results = response.json()"
   ]
  },
  {
   "cell_type": "code",
   "execution_count": 5,
   "metadata": {},
   "outputs": [],
   "source": [
    "tabla1 = json_normalize(results)"
   ]
  },
  {
   "cell_type": "code",
   "execution_count": 6,
   "metadata": {},
   "outputs": [],
   "source": [
    "def displaydf(dataframe, cols = None, rows = 20):\n",
    "    with pd.option_context(\"display.max_columns\", cols):\n",
    "        with pd.option_context(\"display.max_rows\", rows):\n",
    "            display(dataframe)\n",
    "    return True"
   ]
  },
  {
   "cell_type": "code",
   "execution_count": 7,
   "metadata": {},
   "outputs": [],
   "source": [
    "#displaydf(flattened_data)"
   ]
  },
  {
   "cell_type": "code",
   "execution_count": 8,
   "metadata": {},
   "outputs": [],
   "source": [
    "tabla1=tabla1[['position','personName','city','countryOfCitizenship','gender','financialAssets','birthDate']]\n",
    "#tabla1.birthDate = tabla1.birthDate.fillna(0)\n",
    "#tabla1.birthDate = tabla1.birthDate.astype(int)\n",
    "\n",
    "tabla1.loc[tabla1.birthDate.isnull(),'birthDate'] = 0\n"
   ]
  },
  {
   "cell_type": "code",
   "execution_count": 9,
   "metadata": {},
   "outputs": [],
   "source": [
    "tabla1.loc[:,'birthDate'] = tabla1.birthDate.astype(int)"
   ]
  },
  {
   "cell_type": "code",
   "execution_count": 10,
   "metadata": {},
   "outputs": [
    {
     "data": {
      "text/plain": [
       "0                     Jeff Bezos\n",
       "1       Bernard Arnault & Family\n",
       "2                     Bill Gates\n",
       "3                 Warren Buffett\n",
       "4                 Amancio Ortega\n",
       "                  ...           \n",
       "2180                 Morris Kahn\n",
       "2181               Sachin Bansal\n",
       "2182           Tatyana Bakalchuk\n",
       "2183    Zhang Zhongneng & Family\n",
       "2184             Miguel Mckelvey\n",
       "Name: personName, Length: 2185, dtype: object"
      ]
     },
     "execution_count": 10,
     "metadata": {},
     "output_type": "execute_result"
    }
   ],
   "source": [
    "def title_COLUMN(df, column):\n",
    "    df[column] = df[column].str.title()\n",
    "    return df[column]\n",
    "title_COLUMN(tabla1, 'personName')"
   ]
  },
  {
   "cell_type": "code",
   "execution_count": 11,
   "metadata": {},
   "outputs": [],
   "source": [
    "from datetime import datetime, timedelta\n",
    "\n",
    "def birthDate_f(the_row):\n",
    "    if the_row>0:\n",
    "        date = datetime(1970, 1, 1) + timedelta(seconds=the_row/1000)\n",
    "        return date.strftime('%Y')\n",
    "    elif the_row<0:\n",
    "        date = datetime(1970, 1, 1) - timedelta(seconds=-the_row/1000)\n",
    "        return date.strftime('%Y')\n",
    "    else:\n",
    "        return 0\n",
    "    \n",
    "def Age_f(the_row):\n",
    "    the_row = int(the_row) #añadido!!!!\n",
    "    if the_row >= 1000:\n",
    "        return now.year - the_row\n",
    "    else:\n",
    "        return the_row\n",
    "\n",
    "def Gender_f(the_row):\n",
    "    if the_row == \"M\":\n",
    "        return \"Male\"\n",
    "    elif the_row == \"F\":\n",
    "        return \"Female\"\n",
    "    else:\n",
    "        return the_row\n",
    "\n",
    "    \n",
    "#tabla1['birthDate'] = tabla1.apply(lambda row: birthdate_f(row.birthDate), axis=1)\n",
    "#tabla1['birthDate'] = tabla1.apply(lambda row: age_f(row.birthDate), axis=1)\n",
    "#tabla1['gender'] = tabla1.apply(lambda row: gender_f(row.gender), axis=1)\n",
    "tabla1.loc[:,'birthDate'] = tabla1.birthDate.apply(birthDate_f)\n",
    "tabla1.loc[:,'birthDate'] = tabla1.birthDate.apply(Age_f)\n",
    "tabla1.loc[:,'gender'] = tabla1.gender.apply(Gender_f)\n"
   ]
  },
  {
   "cell_type": "code",
   "execution_count": 12,
   "metadata": {},
   "outputs": [
    {
     "data": {
      "text/html": [
       "<div>\n",
       "<style scoped>\n",
       "    .dataframe tbody tr th:only-of-type {\n",
       "        vertical-align: middle;\n",
       "    }\n",
       "\n",
       "    .dataframe tbody tr th {\n",
       "        vertical-align: top;\n",
       "    }\n",
       "\n",
       "    .dataframe thead th {\n",
       "        text-align: right;\n",
       "    }\n",
       "</style>\n",
       "<table border=\"1\" class=\"dataframe\">\n",
       "  <thead>\n",
       "    <tr style=\"text-align: right;\">\n",
       "      <th></th>\n",
       "      <th>position</th>\n",
       "      <th>personName</th>\n",
       "      <th>city</th>\n",
       "      <th>countryOfCitizenship</th>\n",
       "      <th>gender</th>\n",
       "      <th>financialAssets</th>\n",
       "      <th>birthDate</th>\n",
       "    </tr>\n",
       "  </thead>\n",
       "  <tbody>\n",
       "    <tr>\n",
       "      <th>0</th>\n",
       "      <td>1</td>\n",
       "      <td>Jeff Bezos</td>\n",
       "      <td>Seattle</td>\n",
       "      <td>United States</td>\n",
       "      <td>Male</td>\n",
       "      <td>[{'exchange': 'NASDAQ', 'ticker': 'AMZN-US', '...</td>\n",
       "      <td>56</td>\n",
       "    </tr>\n",
       "    <tr>\n",
       "      <th>1</th>\n",
       "      <td>2</td>\n",
       "      <td>Bernard Arnault &amp; Family</td>\n",
       "      <td>Paris</td>\n",
       "      <td>France</td>\n",
       "      <td>Male</td>\n",
       "      <td>[{'exchange': 'EURONEXT PARIS', 'ticker': 'CA-...</td>\n",
       "      <td>71</td>\n",
       "    </tr>\n",
       "    <tr>\n",
       "      <th>2</th>\n",
       "      <td>3</td>\n",
       "      <td>Bill Gates</td>\n",
       "      <td>Medina</td>\n",
       "      <td>United States</td>\n",
       "      <td>Male</td>\n",
       "      <td>[{'exchange': 'NASDAQ', 'ticker': 'ACGL-US', '...</td>\n",
       "      <td>65</td>\n",
       "    </tr>\n",
       "    <tr>\n",
       "      <th>3</th>\n",
       "      <td>4</td>\n",
       "      <td>Warren Buffett</td>\n",
       "      <td>Omaha</td>\n",
       "      <td>United States</td>\n",
       "      <td>Male</td>\n",
       "      <td>[{'exchange': 'NYSE', 'ticker': 'BRK.A-US', 'c...</td>\n",
       "      <td>90</td>\n",
       "    </tr>\n",
       "    <tr>\n",
       "      <th>4</th>\n",
       "      <td>5</td>\n",
       "      <td>Amancio Ortega</td>\n",
       "      <td>La Coruna</td>\n",
       "      <td>Spain</td>\n",
       "      <td>Male</td>\n",
       "      <td>[{'exchange': 'MADRID', 'ticker': 'ITX-ES', 'c...</td>\n",
       "      <td>84</td>\n",
       "    </tr>\n",
       "    <tr>\n",
       "      <th>...</th>\n",
       "      <td>...</td>\n",
       "      <td>...</td>\n",
       "      <td>...</td>\n",
       "      <td>...</td>\n",
       "      <td>...</td>\n",
       "      <td>...</td>\n",
       "      <td>...</td>\n",
       "    </tr>\n",
       "    <tr>\n",
       "      <th>2180</th>\n",
       "      <td>2181</td>\n",
       "      <td>Morris Kahn</td>\n",
       "      <td>Beit Yanay</td>\n",
       "      <td>Israel</td>\n",
       "      <td>Male</td>\n",
       "      <td>NaN</td>\n",
       "      <td>90</td>\n",
       "    </tr>\n",
       "    <tr>\n",
       "      <th>2181</th>\n",
       "      <td>2182</td>\n",
       "      <td>Sachin Bansal</td>\n",
       "      <td>Bangalore</td>\n",
       "      <td>India</td>\n",
       "      <td>Male</td>\n",
       "      <td>NaN</td>\n",
       "      <td>39</td>\n",
       "    </tr>\n",
       "    <tr>\n",
       "      <th>2182</th>\n",
       "      <td>2183</td>\n",
       "      <td>Tatyana Bakalchuk</td>\n",
       "      <td>Moscow</td>\n",
       "      <td>Russia</td>\n",
       "      <td>Female</td>\n",
       "      <td>NaN</td>\n",
       "      <td>45</td>\n",
       "    </tr>\n",
       "    <tr>\n",
       "      <th>2183</th>\n",
       "      <td>2184</td>\n",
       "      <td>Zhang Zhongneng &amp; Family</td>\n",
       "      <td>Shenzhen</td>\n",
       "      <td>China</td>\n",
       "      <td>Male</td>\n",
       "      <td>[{'exchange': 'SHANGHAI', 'ticker': '600673-CN...</td>\n",
       "      <td>57</td>\n",
       "    </tr>\n",
       "    <tr>\n",
       "      <th>2184</th>\n",
       "      <td>2185</td>\n",
       "      <td>Miguel Mckelvey</td>\n",
       "      <td>New York</td>\n",
       "      <td>United States</td>\n",
       "      <td>Male</td>\n",
       "      <td>NaN</td>\n",
       "      <td>46</td>\n",
       "    </tr>\n",
       "  </tbody>\n",
       "</table>\n",
       "<p>2185 rows × 7 columns</p>\n",
       "</div>"
      ],
      "text/plain": [
       "      position                personName        city countryOfCitizenship  \\\n",
       "0            1                Jeff Bezos     Seattle        United States   \n",
       "1            2  Bernard Arnault & Family       Paris               France   \n",
       "2            3                Bill Gates      Medina        United States   \n",
       "3            4            Warren Buffett       Omaha        United States   \n",
       "4            5            Amancio Ortega   La Coruna                Spain   \n",
       "...        ...                       ...         ...                  ...   \n",
       "2180      2181               Morris Kahn  Beit Yanay               Israel   \n",
       "2181      2182             Sachin Bansal   Bangalore                India   \n",
       "2182      2183         Tatyana Bakalchuk      Moscow               Russia   \n",
       "2183      2184  Zhang Zhongneng & Family    Shenzhen                China   \n",
       "2184      2185           Miguel Mckelvey    New York        United States   \n",
       "\n",
       "      gender                                    financialAssets  birthDate  \n",
       "0       Male  [{'exchange': 'NASDAQ', 'ticker': 'AMZN-US', '...         56  \n",
       "1       Male  [{'exchange': 'EURONEXT PARIS', 'ticker': 'CA-...         71  \n",
       "2       Male  [{'exchange': 'NASDAQ', 'ticker': 'ACGL-US', '...         65  \n",
       "3       Male  [{'exchange': 'NYSE', 'ticker': 'BRK.A-US', 'c...         90  \n",
       "4       Male  [{'exchange': 'MADRID', 'ticker': 'ITX-ES', 'c...         84  \n",
       "...      ...                                                ...        ...  \n",
       "2180    Male                                                NaN         90  \n",
       "2181    Male                                                NaN         39  \n",
       "2182  Female                                                NaN         45  \n",
       "2183    Male  [{'exchange': 'SHANGHAI', 'ticker': '600673-CN...         57  \n",
       "2184    Male                                                NaN         46  \n",
       "\n",
       "[2185 rows x 7 columns]"
      ]
     },
     "execution_count": 12,
     "metadata": {},
     "output_type": "execute_result"
    }
   ],
   "source": [
    "tabla1"
   ]
  },
  {
   "cell_type": "code",
   "execution_count": 13,
   "metadata": {},
   "outputs": [],
   "source": [
    "#tabla1.rename(columns = {'personName':'Name','position':'Position'}, inplace = True)\n",
    "\n",
    "tabla1.rename(index={e: e+1 for e in range(len(tabla1))}, \n",
    "                columns={'personName':'Name','position':'Position'}, \n",
    "                inplace=True)"
   ]
  },
  {
   "cell_type": "markdown",
   "metadata": {},
   "source": [
    "Recuperamos la tabla 2 del proyecto"
   ]
  },
  {
   "cell_type": "code",
   "execution_count": 14,
   "metadata": {},
   "outputs": [],
   "source": [
    "tabla2 = pd.read_csv('../data/processed/ForbesBillionaires2018.csv', sep=',', index_col=0)"
   ]
  },
  {
   "cell_type": "markdown",
   "metadata": {},
   "source": [
    "Vamos a extraer el codigo de la imagen para cruzar de la tabla 2"
   ]
  },
  {
   "cell_type": "code",
   "execution_count": 15,
   "metadata": {},
   "outputs": [],
   "source": [
    "def Image_f(the_row):\n",
    "    if the_row.startswith('https://') == True:\n",
    "        the_row = str(re.findall('serve/[0-9a-z]+',the_row))\n",
    "        return the_row[8:-2]\n",
    "    else:\n",
    "        return the_row"
   ]
  },
  {
   "cell_type": "code",
   "execution_count": 16,
   "metadata": {},
   "outputs": [],
   "source": [
    "#tabla2['Image2'] = tabla2.apply(lambda row: Image_f(row.Image), axis=1)"
   ]
  },
  {
   "cell_type": "markdown",
   "metadata": {},
   "source": [
    "El cruce entre tabla 1 y tabla 2"
   ]
  },
  {
   "cell_type": "code",
   "execution_count": 17,
   "metadata": {},
   "outputs": [],
   "source": [
    "from functools import reduce\n",
    "results = [tabla1, tabla2]\n",
    "results1 = reduce(lambda left,right: pd.merge(left,right,on='Name', how='right'), results)"
   ]
  },
  {
   "cell_type": "code",
   "execution_count": 18,
   "metadata": {},
   "outputs": [],
   "source": [
    "results1.birthDate = results1.birthDate.fillna(0)\n",
    "results1.birthDate = results1.birthDate.astype(int)\n"
   ]
  },
  {
   "cell_type": "code",
   "execution_count": 19,
   "metadata": {},
   "outputs": [],
   "source": [
    "def Age_none_f(age, birthDate):\n",
    "    if age == 0:\n",
    "        return (birthDate-1)\n",
    "    else:\n",
    "        return age\n",
    "def Gender_none_f(Gender, gender):\n",
    "    if Gender in (None, '','None'):\n",
    "        return gender\n",
    "    else:\n",
    "        return Gender\n",
    "def Country_none_f(Country, countryOfCitizenship):\n",
    "    if Country in (None, '','None'):\n",
    "        return countryOfCitizenship\n",
    "    elif Country == 'USA':\n",
    "        return 'United States'\n",
    "    else:\n",
    "        return Country"
   ]
  },
  {
   "cell_type": "code",
   "execution_count": 20,
   "metadata": {},
   "outputs": [],
   "source": [
    "results1['Age'] = results1.apply(lambda row: Age_none_f(row.Age, row.birthDate), axis=1)\n",
    "results1['Gender'] = results1.apply(lambda row: Gender_none_f(row.Gender, row.gender), axis=1)\n",
    "results1['Country'] = results1.apply(lambda row: Country_none_f(row.Country, row.countryOfCitizenship), axis=1)"
   ]
  },
  {
   "cell_type": "code",
   "execution_count": 21,
   "metadata": {},
   "outputs": [],
   "source": [
    "results1 = results1[['Position_y', 'Name', 'LastName', 'Age', 'Gender', 'Country', 'city', 'Worth', 'Image','Company','Sector','financialAssets']]"
   ]
  },
  {
   "cell_type": "code",
   "execution_count": null,
   "metadata": {},
   "outputs": [],
   "source": []
  },
  {
   "cell_type": "code",
   "execution_count": 22,
   "metadata": {},
   "outputs": [],
   "source": [
    "import requests\n",
    "import lxml\n",
    "import html5lib\n",
    "\n",
    "from bs4 import BeautifulSoup"
   ]
  },
  {
   "cell_type": "code",
   "execution_count": 23,
   "metadata": {},
   "outputs": [],
   "source": [
    "url = 'https://stats.areppim.com/listes/list_billionairesx18xwor.htm'\n",
    "#url='https://data.opendatasoft.com/explore/embed/dataset/the-billionaire-characteristics-database@public-us/table/'\n",
    "#url = 'https://www.reuters.com/article/us-shazam-m-a-apple-eu/eu-clears-apples-purchase-of-shazam-idUSKCN1LM1TZ'\n",
    "html = requests.get(url).content\n",
    "soup = BeautifulSoup(html, 'lxml')"
   ]
  },
  {
   "cell_type": "code",
   "execution_count": 24,
   "metadata": {},
   "outputs": [],
   "source": [
    "table = soup.find_all('table',{'class':'stats'})[0]"
   ]
  },
  {
   "cell_type": "code",
   "execution_count": 25,
   "metadata": {},
   "outputs": [],
   "source": [
    "#rows = table.find_all('tr')\n",
    "#rows_parsed = [row for row in rows]\n",
    "#rows_parsed\n",
    "\n",
    "data = []\n",
    "for i in table.findAll('tr'):\n",
    "    data.append([j.text.strip() for j in i.findAll('td')])\n",
    "\n",
    "import pandas as pd\n",
    "tabla3 = pd.DataFrame(data[2:-3], columns=data[1])"
   ]
  },
  {
   "cell_type": "code",
   "execution_count": 26,
   "metadata": {},
   "outputs": [
    {
     "data": {
      "text/plain": [
       "0            Jeff Bezos\n",
       "1            Bill Gates\n",
       "2        Warren Buffett\n",
       "3       Bernard Arnault\n",
       "4       Mark Zuckerberg\n",
       "             ...       \n",
       "2203     Zhao Xiaoqiang\n",
       "2204    Zhou Liangzhang\n",
       "2205       Zhu Xingming\n",
       "2206           Zhuo Jun\n",
       "2207        Olgun Zorlu\n",
       "Name: Name, Length: 2208, dtype: object"
      ]
     },
     "execution_count": 26,
     "metadata": {},
     "output_type": "execute_result"
    }
   ],
   "source": [
    "title_COLUMN(tabla3, 'Name')"
   ]
  },
  {
   "cell_type": "code",
   "execution_count": 27,
   "metadata": {},
   "outputs": [],
   "source": [
    "from functools import reduce\n",
    "results = [results1, tabla3]\n",
    "results2 = reduce(lambda left,right: pd.merge(left,right,on='Name', how='left'), results)"
   ]
  },
  {
   "cell_type": "code",
   "execution_count": 28,
   "metadata": {},
   "outputs": [],
   "source": [
    "def Country_none2_f(Country, Citizenship):\n",
    "    if pd.isnull(Country) == True:\n",
    "        return Citizenship\n",
    "    elif Country == 'USA':\n",
    "        return 'United States'\n",
    "    else:\n",
    "        return Country"
   ]
  },
  {
   "cell_type": "code",
   "execution_count": 29,
   "metadata": {},
   "outputs": [],
   "source": [
    "results2['Country'] = results2.apply(lambda row: Country_none2_f(row.Country, row.Citizenship), axis=1)"
   ]
  },
  {
   "cell_type": "code",
   "execution_count": 30,
   "metadata": {},
   "outputs": [],
   "source": [
    "results2 = results2[['Position_y', 'Name', 'LastName', 'Age_x', 'Gender', 'Country', 'city', 'Worth', 'Image','Company','Sector','financialAssets']]"
   ]
  },
  {
   "cell_type": "code",
   "execution_count": 31,
   "metadata": {},
   "outputs": [],
   "source": [
    "results2.rename(columns = {'Age_x':'Age','Position_y':'Position','city':'City','financialAssets':'FinancialAssets'}, inplace = True)"
   ]
  },
  {
   "cell_type": "code",
   "execution_count": 32,
   "metadata": {},
   "outputs": [],
   "source": [
    "results2 = results2.sort_values(by='Position', ascending=True)"
   ]
  },
  {
   "cell_type": "code",
   "execution_count": 33,
   "metadata": {},
   "outputs": [],
   "source": [
    "results2 = results2.loc[results2.astype(str).drop_duplicates().index]"
   ]
  },
  {
   "cell_type": "code",
   "execution_count": null,
   "metadata": {},
   "outputs": [],
   "source": []
  },
  {
   "cell_type": "code",
   "execution_count": 34,
   "metadata": {},
   "outputs": [],
   "source": [
    "#results2.loc[results2['Name'] == 'Robert Miller']"
   ]
  },
  {
   "cell_type": "code",
   "execution_count": 35,
   "metadata": {},
   "outputs": [],
   "source": [
    "#results2.loc[results2['Name'] == 'Li Li']"
   ]
  },
  {
   "cell_type": "code",
   "execution_count": 36,
   "metadata": {},
   "outputs": [],
   "source": [
    "results2 = results2.drop(results2[(results2.Name == 'Li Li') & (results2.City == 'Shenzhen')].index)\n",
    "results2 = results2.drop(results2[(results2.Name == 'Robert Miller') & (results2.City == 'Montreal') & (results2.Worth == 4.5)].index)\n",
    "results2 = results2.drop(results2[(results2.Name == 'Robert Miller') & (results2.City == 'Hong Kong') & (results2.Worth == 2.6)].index)"
   ]
  },
  {
   "cell_type": "code",
   "execution_count": 37,
   "metadata": {},
   "outputs": [],
   "source": [
    "results2 = results2.reset_index(drop=True)"
   ]
  },
  {
   "cell_type": "code",
   "execution_count": 38,
   "metadata": {},
   "outputs": [],
   "source": [
    "results2.to_csv('../data/processed/ForbesBillionaires2018_2.csv', index=False)"
   ]
  },
  {
   "cell_type": "code",
   "execution_count": null,
   "metadata": {},
   "outputs": [],
   "source": []
  }
 ],
 "metadata": {
  "kernelspec": {
   "display_name": "Python [conda env:jupyter_env] *",
   "language": "python",
   "name": "conda-env-jupyter_env-py"
  },
  "language_info": {
   "codemirror_mode": {
    "name": "ipython",
    "version": 3
   },
   "file_extension": ".py",
   "mimetype": "text/x-python",
   "name": "python",
   "nbconvert_exporter": "python",
   "pygments_lexer": "ipython3",
   "version": "3.7.5"
  }
 },
 "nbformat": 4,
 "nbformat_minor": 2
}
