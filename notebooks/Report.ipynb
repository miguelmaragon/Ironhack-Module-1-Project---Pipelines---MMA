{
 "cells": [
  {
   "cell_type": "code",
   "execution_count": 2,
   "metadata": {},
   "outputs": [],
   "source": [
    "graphs = [\n",
    "    'https://plot.ly/~christopherp/308',\n",
    "    'https://plot.ly/~christopherp/306',\n",
    "    'https://plot.ly/~christopherp/300',\n",
    "    'https://plot.ly/~christopherp/296'\n",
    "]"
   ]
  },
  {
   "cell_type": "code",
   "execution_count": 1,
   "metadata": {},
   "outputs": [
    {
     "name": "stdout",
     "output_type": "stream",
     "text": [
      "Collecting xhtml2pdf\n",
      "\u001b[?25l  Downloading https://files.pythonhosted.org/packages/d1/94/a9b4e0ecb472f4d2bcb277524b586d9c8ee6c50745614f1b340c69bf2a3e/xhtml2pdf-0.2.3.tar.gz (99kB)\n",
      "\u001b[K     |████████████████████████████████| 102kB 686kB/s ta 0:00:01\n",
      "\u001b[?25hRequirement already satisfied: html5lib>=1.0 in /home/miguelmaragon/miniconda3/envs/jupyter_env/lib/python3.7/site-packages (from xhtml2pdf) (1.0.1)\n",
      "Collecting pyPdf2\n",
      "\u001b[?25l  Downloading https://files.pythonhosted.org/packages/b4/01/68fcc0d43daf4c6bdbc6b33cc3f77bda531c86b174cac56ef0ffdb96faab/PyPDF2-1.26.0.tar.gz (77kB)\n",
      "\u001b[K     |████████████████████████████████| 81kB 1.2MB/s eta 0:00:011\n",
      "\u001b[?25hCollecting Pillow\n",
      "\u001b[?25l  Downloading https://files.pythonhosted.org/packages/f5/79/b2d5695d1a931474fa68b68ec93bdf08ba9acbc4d6b3b628eb6aac81d11c/Pillow-7.0.0-cp37-cp37m-manylinux1_x86_64.whl (2.1MB)\n",
      "\u001b[K     |████████████████████████████████| 2.1MB 1.9MB/s eta 0:00:01\n",
      "\u001b[?25hCollecting reportlab>=3.0\n",
      "\u001b[?25l  Downloading https://files.pythonhosted.org/packages/c2/bb/7f93a025df23706cc2a8b89f53764accfd480da295c026a1fb815199ade9/reportlab-3.5.32-cp37-cp37m-manylinux1_x86_64.whl (2.6MB)\n",
      "\u001b[K     |████████████████████████████████| 2.6MB 1.1MB/s eta 0:00:01\n",
      "\u001b[?25hRequirement already satisfied: six in /home/miguelmaragon/miniconda3/envs/jupyter_env/lib/python3.7/site-packages (from xhtml2pdf) (1.12.0)\n",
      "Requirement already satisfied: webencodings in /home/miguelmaragon/miniconda3/envs/jupyter_env/lib/python3.7/site-packages (from html5lib>=1.0->xhtml2pdf) (0.5.1)\n",
      "Building wheels for collected packages: xhtml2pdf, pyPdf2\n",
      "  Building wheel for xhtml2pdf (setup.py) ... \u001b[?25ldone\n",
      "\u001b[?25h  Created wheel for xhtml2pdf: filename=xhtml2pdf-0.2.3-cp37-none-any.whl size=230329 sha256=58e7fbc7d7fa5312d2d565e5c090ddd55220011caee88c6a84fc664f6271edc4\n",
      "  Stored in directory: /home/miguelmaragon/.cache/pip/wheels/c3/22/d6/fb20c4c532e9eb3b43fe30df5242c8ebaae20d1a6c4bcfa7b9\n",
      "  Building wheel for pyPdf2 (setup.py) ... \u001b[?25ldone\n",
      "\u001b[?25h  Created wheel for pyPdf2: filename=PyPDF2-1.26.0-cp37-none-any.whl size=61086 sha256=a472e6d10fc5c531188e8293424404bbf4c6e2fe772393378a2c2758071a98db\n",
      "  Stored in directory: /home/miguelmaragon/.cache/pip/wheels/53/84/19/35bc977c8bf5f0c23a8a011aa958acd4da4bbd7a229315c1b7\n",
      "Successfully built xhtml2pdf pyPdf2\n",
      "Installing collected packages: pyPdf2, Pillow, reportlab, xhtml2pdf\n",
      "Successfully installed Pillow-7.0.0 pyPdf2-1.26.0 reportlab-3.5.32 xhtml2pdf-0.2.3\n"
     ]
    }
   ],
   "source": [
    "!pip install xhtml2pdf"
   ]
  },
  {
   "cell_type": "code",
   "execution_count": 14,
   "metadata": {},
   "outputs": [],
   "source": [
    "from IPython.display import display, HTML\n",
    "\n",
    "def report_block_template(report_type, graph_url, caption=''):\n",
    "    if report_type == 'interactive':\n",
    "        graph_block = '<iframe style=\"border: none;\" src=\"{graph_url}.embed\" width=\"100%\" height=\"600px\"></iframe>'\n",
    "    elif report_type == 'static':\n",
    "        graph_block = (''\n",
    "            '<a href=\"{graph_url}\" target=\"_blank\">' # Open the interactive graph when you click on the image\n",
    "                '<img style=\"height: 400px;\" src=\"{graph_url}.png\">'\n",
    "            '</a>')\n",
    "\n",
    "    report_block = ('' +\n",
    "        graph_block +\n",
    "        '{caption}' + # Optional caption to include below the graph\n",
    "        '<br>'      + # Line break\n",
    "        '<a href=\"{graph_url}\" style=\"color: rgb(190,190,190); text-decoration: none; font-weight: 200;\" target=\"_blank\">'+\n",
    "            'Click to comment and see the interactive graph' + # Direct readers to Plotly for commenting, interactive graph\n",
    "        '</a>' +\n",
    "        '<br>' +\n",
    "        '<hr>') # horizontal line                       \n",
    "\n",
    "    return report_block.format(graph_url=graph_url, caption=caption)\n",
    "\n",
    "\n",
    "interactive_report = ''\n",
    "static_report = ''\n",
    "\n",
    "for graph_url in graphs:\n",
    "    _static_block = report_block_template('static', graph_url, caption='')\n",
    "    _interactive_block = report_block_template('interactive', graph_url, caption='')\n",
    "\n",
    "    static_report += _static_block\n",
    "    interactive_report += _interactive_block"
   ]
  },
  {
   "cell_type": "code",
   "execution_count": 15,
   "metadata": {},
   "outputs": [
    {
     "data": {
      "text/html": [
       "<iframe style=\"border: none;\" src=\"      Position             Name    LastName  Age Gender        Country  Worth  \\\n",
       "Id                                                                              \n",
       "5110         1       Jeff Bezos       Bezos   54   Male  United States  112.0   \n",
       "8029         2       Bill Gates       Gates   62   None  United States   90.0   \n",
       "1017         3   Warren Buffett     Buffett   87   None  United States   84.0   \n",
       "3437         4  Bernard Arnault     Arnault   69   None           None   72.0   \n",
       "4589         5  Mark Zuckerberg  Zuckerberg   35   None  United States   71.0   \n",
       "...        ...              ...         ...  ...    ...            ...    ...   \n",
       "1536      2204   Zhao Xiaoqiang        Zhao   51   Male          China    1.0   \n",
       "3722      2205  Zhou Liangzhang        Zhou   55   Male           None    1.0   \n",
       "7308      2206     Zhu Xingming         Zhu   51   Male          China    1.0   \n",
       "7816      2207         Zhuo Jun        Zhuo   52   None      Hong Kong    1.0   \n",
       "5061      2208      Olgun Zorlu       Zorlu   54   Male           None    1.0   \n",
       "\n",
       "                                                  Image  \\\n",
       "Id                                                        \n",
       "5110  https://specials-images.forbesimg.com/imageser...   \n",
       "8029  https://specials-images.forbesimg.com/imageser...   \n",
       "1017  https://specials-images.forbesimg.com/imageser...   \n",
       "3437  https://specials-images.forbesimg.com/imageser...   \n",
       "4589  https://specials-images.forbesimg.com/imageser...   \n",
       "...                                                 ...   \n",
       "1536  https://specials-images.forbesimg.com/imageser...   \n",
       "3722  https://specials-images.forbesimg.com/imageser...   \n",
       "7308  https://specials-images.forbesimg.com/imageser...   \n",
       "7816  https://specials-images.forbesimg.com/imageser...   \n",
       "5061  https://specials-images.forbesimg.com/imageser...   \n",
       "\n",
       "                        Sector                 Company  \n",
       "Id                                                      \n",
       "5110               Technology                   Amazon  \n",
       "8029               Technology                Microsoft  \n",
       "1017  Finance And Investments       Berkshire Hathaway  \n",
       "3437         Fashion & Retail                     Lvmh  \n",
       "4589               Technology                 Facebook  \n",
       "...                        ...                     ...  \n",
       "1536         Fashion & Retail   Fashion, Entertainment  \n",
       "3722            Manufacturing     Electrical Equipment  \n",
       "7308            Manufacturing     Electrical Equipment  \n",
       "7816            Manufacturing   Printed Circuit Boards  \n",
       "5061              Diversified              Diversified  \n",
       "\n",
       "[2208 rows x 10 columns].embed\" width=\"100%\" height=\"600px\"></iframe><br><a href=\"      Position             Name    LastName  Age Gender        Country  Worth  \\\n",
       "Id                                                                              \n",
       "5110         1       Jeff Bezos       Bezos   54   Male  United States  112.0   \n",
       "8029         2       Bill Gates       Gates   62   None  United States   90.0   \n",
       "1017         3   Warren Buffett     Buffett   87   None  United States   84.0   \n",
       "3437         4  Bernard Arnault     Arnault   69   None           None   72.0   \n",
       "4589         5  Mark Zuckerberg  Zuckerberg   35   None  United States   71.0   \n",
       "...        ...              ...         ...  ...    ...            ...    ...   \n",
       "1536      2204   Zhao Xiaoqiang        Zhao   51   Male          China    1.0   \n",
       "3722      2205  Zhou Liangzhang        Zhou   55   Male           None    1.0   \n",
       "7308      2206     Zhu Xingming         Zhu   51   Male          China    1.0   \n",
       "7816      2207         Zhuo Jun        Zhuo   52   None      Hong Kong    1.0   \n",
       "5061      2208      Olgun Zorlu       Zorlu   54   Male           None    1.0   \n",
       "\n",
       "                                                  Image  \\\n",
       "Id                                                        \n",
       "5110  https://specials-images.forbesimg.com/imageser...   \n",
       "8029  https://specials-images.forbesimg.com/imageser...   \n",
       "1017  https://specials-images.forbesimg.com/imageser...   \n",
       "3437  https://specials-images.forbesimg.com/imageser...   \n",
       "4589  https://specials-images.forbesimg.com/imageser...   \n",
       "...                                                 ...   \n",
       "1536  https://specials-images.forbesimg.com/imageser...   \n",
       "3722  https://specials-images.forbesimg.com/imageser...   \n",
       "7308  https://specials-images.forbesimg.com/imageser...   \n",
       "7816  https://specials-images.forbesimg.com/imageser...   \n",
       "5061  https://specials-images.forbesimg.com/imageser...   \n",
       "\n",
       "                        Sector                 Company  \n",
       "Id                                                      \n",
       "5110               Technology                   Amazon  \n",
       "8029               Technology                Microsoft  \n",
       "1017  Finance And Investments       Berkshire Hathaway  \n",
       "3437         Fashion & Retail                     Lvmh  \n",
       "4589               Technology                 Facebook  \n",
       "...                        ...                     ...  \n",
       "1536         Fashion & Retail   Fashion, Entertainment  \n",
       "3722            Manufacturing     Electrical Equipment  \n",
       "7308            Manufacturing     Electrical Equipment  \n",
       "7816            Manufacturing   Printed Circuit Boards  \n",
       "5061              Diversified              Diversified  \n",
       "\n",
       "[2208 rows x 10 columns]\" style=\"color: rgb(190,190,190); text-decoration: none; font-weight: 200;\" target=\"_blank\">Click to comment and see the interactive graph</a><br><hr>"
      ],
      "text/plain": [
       "<IPython.core.display.HTML object>"
      ]
     },
     "metadata": {},
     "output_type": "display_data"
    }
   ],
   "source": [
    "display(HTML(interactive_report))"
   ]
  },
  {
   "cell_type": "code",
   "execution_count": 5,
   "metadata": {},
   "outputs": [
    {
     "data": {
      "text/html": [
       "<a href=\"https://plot.ly/~christopherp/308\" target=\"_blank\"><img style=\"height: 400px;\" src=\"https://plot.ly/~christopherp/308.png\"></a><br><a href=\"https://plot.ly/~christopherp/308\" style=\"color: rgb(190,190,190); text-decoration: none; font-weight: 200;\" target=\"_blank\">Click to comment and see the interactive graph</a><br><hr><a href=\"https://plot.ly/~christopherp/306\" target=\"_blank\"><img style=\"height: 400px;\" src=\"https://plot.ly/~christopherp/306.png\"></a><br><a href=\"https://plot.ly/~christopherp/306\" style=\"color: rgb(190,190,190); text-decoration: none; font-weight: 200;\" target=\"_blank\">Click to comment and see the interactive graph</a><br><hr><a href=\"https://plot.ly/~christopherp/300\" target=\"_blank\"><img style=\"height: 400px;\" src=\"https://plot.ly/~christopherp/300.png\"></a><br><a href=\"https://plot.ly/~christopherp/300\" style=\"color: rgb(190,190,190); text-decoration: none; font-weight: 200;\" target=\"_blank\">Click to comment and see the interactive graph</a><br><hr><a href=\"https://plot.ly/~christopherp/296\" target=\"_blank\"><img style=\"height: 400px;\" src=\"https://plot.ly/~christopherp/296.png\"></a><br><a href=\"https://plot.ly/~christopherp/296\" style=\"color: rgb(190,190,190); text-decoration: none; font-weight: 200;\" target=\"_blank\">Click to comment and see the interactive graph</a><br><hr>"
      ],
      "text/plain": [
       "<IPython.core.display.HTML object>"
      ]
     },
     "metadata": {},
     "output_type": "display_data"
    }
   ],
   "source": [
    "display(HTML(static_report))"
   ]
  },
  {
   "cell_type": "code",
   "execution_count": 6,
   "metadata": {},
   "outputs": [],
   "source": [
    "from xhtml2pdf import pisa             # import python module\n",
    "\n",
    "# Utility function\n",
    "def convert_html_to_pdf(source_html, output_filename):\n",
    "    # open output file for writing (truncated binary)\n",
    "    result_file = open(output_filename, \"w+b\")\n",
    "\n",
    "    # convert HTML to PDF\n",
    "    pisa_status = pisa.CreatePDF(\n",
    "            source_html,                # the HTML to convert\n",
    "            dest=result_file)           # file handle to recieve result\n",
    "\n",
    "    # close output file\n",
    "    result_file.close()                 # close output file\n",
    "\n",
    "    # return True on success and False on errors\n",
    "    return pisa_status.err"
   ]
  },
  {
   "cell_type": "code",
   "execution_count": 7,
   "metadata": {},
   "outputs": [
    {
     "data": {
      "text/plain": [
       "0"
      ]
     },
     "execution_count": 7,
     "metadata": {},
     "output_type": "execute_result"
    }
   ],
   "source": [
    "convert_html_to_pdf(static_report, 'report.pdf')"
   ]
  },
  {
   "cell_type": "code",
   "execution_count": 8,
   "metadata": {},
   "outputs": [
    {
     "name": "stdout",
     "output_type": "stream",
     "text": [
      "No se puede conseguir un descriptor de archivo referido a la consola\r\n"
     ]
    }
   ],
   "source": [
    "! open report.pdf\n"
   ]
  },
  {
   "cell_type": "code",
   "execution_count": 11,
   "metadata": {},
   "outputs": [],
   "source": [
    "import pandas as pd\n",
    "tabla2 = pd.read_csv('../data/processed/ForbesBillionaires2018.csv', sep=',', index_col=0)"
   ]
  },
  {
   "cell_type": "code",
   "execution_count": 12,
   "metadata": {},
   "outputs": [],
   "source": [
    "graphs = [tabla2]"
   ]
  },
  {
   "cell_type": "code",
   "execution_count": 13,
   "metadata": {},
   "outputs": [
    {
     "data": {
      "text/html": [
       "<a href=\"https://plot.ly/~christopherp/308\" target=\"_blank\"><img style=\"height: 400px;\" src=\"https://plot.ly/~christopherp/308.png\"></a><br><a href=\"https://plot.ly/~christopherp/308\" style=\"color: rgb(190,190,190); text-decoration: none; font-weight: 200;\" target=\"_blank\">Click to comment and see the interactive graph</a><br><hr><a href=\"https://plot.ly/~christopherp/306\" target=\"_blank\"><img style=\"height: 400px;\" src=\"https://plot.ly/~christopherp/306.png\"></a><br><a href=\"https://plot.ly/~christopherp/306\" style=\"color: rgb(190,190,190); text-decoration: none; font-weight: 200;\" target=\"_blank\">Click to comment and see the interactive graph</a><br><hr><a href=\"https://plot.ly/~christopherp/300\" target=\"_blank\"><img style=\"height: 400px;\" src=\"https://plot.ly/~christopherp/300.png\"></a><br><a href=\"https://plot.ly/~christopherp/300\" style=\"color: rgb(190,190,190); text-decoration: none; font-weight: 200;\" target=\"_blank\">Click to comment and see the interactive graph</a><br><hr><a href=\"https://plot.ly/~christopherp/296\" target=\"_blank\"><img style=\"height: 400px;\" src=\"https://plot.ly/~christopherp/296.png\"></a><br><a href=\"https://plot.ly/~christopherp/296\" style=\"color: rgb(190,190,190); text-decoration: none; font-weight: 200;\" target=\"_blank\">Click to comment and see the interactive graph</a><br><hr>"
      ],
      "text/plain": [
       "<IPython.core.display.HTML object>"
      ]
     },
     "metadata": {},
     "output_type": "display_data"
    }
   ],
   "source": [
    "display(HTML(static_report))"
   ]
  },
  {
   "cell_type": "code",
   "execution_count": null,
   "metadata": {},
   "outputs": [],
   "source": []
  }
 ],
 "metadata": {
  "kernelspec": {
   "display_name": "Python [conda env:jupyter_env] *",
   "language": "python",
   "name": "conda-env-jupyter_env-py"
  },
  "language_info": {
   "codemirror_mode": {
    "name": "ipython",
    "version": 3
   },
   "file_extension": ".py",
   "mimetype": "text/x-python",
   "name": "python",
   "nbconvert_exporter": "python",
   "pygments_lexer": "ipython3",
   "version": "3.7.5"
  }
 },
 "nbformat": 4,
 "nbformat_minor": 2
}
